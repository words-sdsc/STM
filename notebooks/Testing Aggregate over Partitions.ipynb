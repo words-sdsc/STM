{
 "cells": [
  {
   "cell_type": "code",
   "execution_count": 1,
   "metadata": {
    "collapsed": true
   },
   "outputs": [],
   "source": [
    "import breeze.linalg._\n",
    "import breeze.math._\n",
    "import breeze.numerics._"
   ]
  },
  {
   "cell_type": "code",
   "execution_count": 14,
   "metadata": {
    "collapsed": false
   },
   "outputs": [
    {
     "name": "stdout",
     "output_type": "stream",
     "text": [
      "**************************testing lambda"
     ]
    }
   ],
   "source": [
    "print(\"**************************testing lambda\")"
   ]
  },
  {
   "cell_type": "code",
   "execution_count": 207,
   "metadata": {
    "collapsed": true
   },
   "outputs": [],
   "source": [
    "val A1  = DenseVector(3.0,3.0)\n",
    "val A2  = DenseVector(4.0,4.0)\n",
    "val A3  = DenseVector(5.0,5.0)\n",
    "\n",
    "val B1  = DenseVector(17.0,17.0)\n",
    "val B2  = DenseVector(19.0,19.0)\n",
    "\n",
    "val C1  = DenseVector(21.0,21.0)\n",
    "val C2  = DenseVector(99.0,99.0)\n",
    "val C3  = DenseVector(13.0,13.0)\n",
    "val C4  = DenseVector(11.0,11.0)"
   ]
  },
  {
   "cell_type": "code",
   "execution_count": 208,
   "metadata": {
    "collapsed": false
   },
   "outputs": [],
   "source": [
    "import org.apache.spark.rdd.RDD\n",
    "val L1 = A1 :: A2 :: A3 :: List[DenseVector[Double]]()\n",
    "val L2 = B1 :: B2 :: B3 :: List[DenseVector[Double]]()\n",
    "val L3 = C1 :: C2 :: C3 :: List[DenseVector[Double]]()\n",
    "val documentsRDD = sc.parallelize(List(A1,A2,A3,B1,B2,C1,C2,C3,C4), 4)\n",
    "documentsRDD.collect() foreach println"
   ]
  },
  {
   "cell_type": "code",
   "execution_count": 221,
   "metadata": {
    "collapsed": false
   },
   "outputs": [],
   "source": [
    "//creat exact same data structure\n",
    "//testing lambda\n",
    "\n",
    "val metrics : RDD[( List[DenseVector[Double]] , Int )] =   \n",
    "      documentsRDD.mapPartitions { docs => \n",
    "             val sigma_pt   =  DenseMatrix.zeros[Double](2,2) \n",
    "             val beta_pt    =  DenseVector.zeros[DenseMatrix[Double]](5)\n",
    "             for(i <- 0 until beta_pt.size) { beta_pt(i) = DenseMatrix.zeros[Double](2,3) } \n",
    "             var bound_pt   = List[Double]()                         \n",
    "             var lambda_pt  = List[DenseVector[Double]]()            \n",
    "             \n",
    "             var sz = 0\n",
    "             docs.foreach { case (doc: DenseVector[Double]) => \n",
    "                                //lambda\n",
    "                                sz = sz + 1\n",
    "                                lambda_pt = doc :: lambda_pt\n",
    "            }\n",
    "            \n",
    "            Iterator((lambda_pt, sz))\n",
    "        \n",
    "      }//end mapPartitions"
   ]
  },
  {
   "cell_type": "code",
   "execution_count": 216,
   "metadata": {
    "collapsed": false
   },
   "outputs": [
    {
     "name": "stdout",
     "output_type": "stream",
     "text": [
      "(List(DenseVector(4.0, 4.0), DenseVector(3.0, 3.0)),2)\n",
      "(List(DenseVector(17.0, 17.0), DenseVector(5.0, 5.0)),2)\n",
      "(List(DenseVector(21.0, 21.0), DenseVector(19.0, 19.0)),2)\n",
      "(List(DenseVector(11.0, 11.0), DenseVector(13.0, 13.0), DenseVector(99.0, 99.0)),3)\n"
     ]
    }
   ],
   "source": [
    "metrics.collect() foreach println"
   ]
  },
  {
   "cell_type": "code",
   "execution_count": 226,
   "metadata": {
    "collapsed": false
   },
   "outputs": [],
   "source": [
    "val collect_lambda: DenseMatrix[Double] = DenseMatrix.vertcat(metrics.map(_._1).flatMap(L=>L).collect().map(_.toDenseMatrix): _*)"
   ]
  },
  {
   "cell_type": "code",
   "execution_count": 231,
   "metadata": {
    "collapsed": false
   },
   "outputs": [
    {
     "name": "stdout",
     "output_type": "stream",
     "text": [
      "4.0   4.0   \n",
      "3.0   3.0   \n",
      "17.0  17.0  \n",
      "5.0   5.0   \n",
      "21.0  21.0  \n",
      "19.0  19.0  \n",
      "11.0  11.0  \n",
      "13.0  13.0  \n",
      "99.0  99.0  "
     ]
    }
   ],
   "source": [
    "print(collect_lambda)"
   ]
  },
  {
   "cell_type": "code",
   "execution_count": 227,
   "metadata": {
    "collapsed": false
   },
   "outputs": [
    {
     "name": "stdout",
     "output_type": "stream",
     "text": [
      "DenseVector(4.0, 4.0)\n",
      "DenseVector(3.0, 3.0)\n",
      "DenseVector(17.0, 17.0)\n",
      "DenseVector(5.0, 5.0)\n",
      "DenseVector(21.0, 21.0)\n",
      "DenseVector(19.0, 19.0)\n",
      "DenseVector(11.0, 11.0)\n",
      "DenseVector(13.0, 13.0)\n",
      "DenseVector(99.0, 99.0)\n"
     ]
    }
   ],
   "source": [
    "metrics.map(_._1).flatMap(l=>l).collect() foreach println"
   ]
  },
  {
   "cell_type": "code",
   "execution_count": null,
   "metadata": {
    "collapsed": true
   },
   "outputs": [],
   "source": [
    "print(\"**************************testing sigma\")"
   ]
  },
  {
   "cell_type": "code",
   "execution_count": 126,
   "metadata": {
    "collapsed": false
   },
   "outputs": [],
   "source": [
    "//creat exact same data structure\n",
    "//testing sigma\n",
    "\n",
    "val metrics : RDD[( DenseMatrix[Double] , Int )] =   \n",
    "      documentsRDD.mapPartitions { docs => \n",
    "             val sigma_pt   =  DenseMatrix.zeros[Double](2,2) \n",
    "             val beta_pt    =  DenseVector.zeros[DenseMatrix[Double]](5)\n",
    "             for(i <- 0 until beta_pt.size) { beta_pt(i) = DenseMatrix.zeros[Double](2,3) } \n",
    "             var bound_pt   = List[Double]()                         \n",
    "             var lambda_pt  = List[DenseVector[Double]]()            \n",
    "             \n",
    "             var sz = 0\n",
    "             docs.foreach { case (doc: DenseVector[Double]) => \n",
    "                                //lambda\n",
    "                                sz = sz + 1\n",
    "                                sigma_pt += DenseMatrix((25.0,25.0),(25.0,25.0))\n",
    "\n",
    "            }\n",
    "            \n",
    "            Iterator((sigma_pt, sz))\n",
    "        \n",
    "      }//end mapPartitions"
   ]
  },
  {
   "cell_type": "code",
   "execution_count": 127,
   "metadata": {
    "collapsed": false
   },
   "outputs": [
    {
     "name": "stdout",
     "output_type": "stream",
     "text": [
      "(50.0  50.0  \n",
      "50.0  50.0  ,2)\n",
      "(50.0  50.0  \n",
      "50.0  50.0  ,2)\n",
      "(50.0  50.0  \n",
      "50.0  50.0  ,2)\n",
      "(75.0  75.0  \n",
      "75.0  75.0  ,3)\n"
     ]
    }
   ],
   "source": [
    "metrics.collect() foreach println"
   ]
  },
  {
   "cell_type": "code",
   "execution_count": 128,
   "metadata": {
    "collapsed": false
   },
   "outputs": [],
   "source": [
    "val collect_sigma : DenseMatrix[Double] = metrics.map(_._1).treeAggregate(DenseMatrix.zeros[Double](2,2))(_ += _, _ += _)"
   ]
  },
  {
   "cell_type": "code",
   "execution_count": 129,
   "metadata": {
    "collapsed": false
   },
   "outputs": [
    {
     "name": "stdout",
     "output_type": "stream",
     "text": [
      "225.0  225.0  \n",
      "225.0  225.0  "
     ]
    }
   ],
   "source": [
    "print(collect_sigma)"
   ]
  },
  {
   "cell_type": "code",
   "execution_count": 175,
   "metadata": {
    "collapsed": false
   },
   "outputs": [
    {
     "name": "stdout",
     "output_type": "stream",
     "text": [
      "**************************testing beta"
     ]
    }
   ],
   "source": [
    "print(\"**************************testing beta\")\n",
    "\n",
    "val A1  = DenseMatrix((2.0,2.0),(2.0,2.0))\n",
    "val A2  = DenseMatrix((4.0,4.0),(4.0,4.0))\n",
    "val A3  = DenseMatrix((6.0,6.0),(6.0,6.0))\n",
    "val A4  = DenseMatrix((5.0,5.0),(5.0,5.0))\n",
    "val A5  = DenseMatrix((25.0,25.0),(25.0,25.0))"
   ]
  },
  {
   "cell_type": "code",
   "execution_count": 202,
   "metadata": {
    "collapsed": false
   },
   "outputs": [],
   "source": [
    "//creat exact same data structure\n",
    "//testing beta\n",
    "\n",
    "val metrics : RDD[( DenseVector[DenseMatrix[Double]] , Int )] =   \n",
    "      documentsRDD.mapPartitions { docs => \n",
    "             val sigma_pt   =  DenseMatrix.zeros[Double](2,2) \n",
    "             val beta_pt    =  DenseVector.zeros[DenseMatrix[Double]](5)\n",
    "             val dummy      = DenseVector(A1,A2,A3,A4,A5)\n",
    "             for(i <- 0 until beta_pt.size) { beta_pt(i) = DenseMatrix.zeros[Double](2,2) } \n",
    "             var bound_pt   = List[Double]()                         \n",
    "             var lambda_pt  = List[DenseVector[Double]]()            \n",
    "             \n",
    "             var sz = 0\n",
    "             docs.foreach { case (doc: DenseVector[Double]) => \n",
    "                                //lambda\n",
    "                                sz = sz + 1\n",
    "                                beta_pt(sz)(::, List(0)) += Matrix((25.0),(25.0))\n",
    "             }\n",
    "            \n",
    "            Iterator((beta_pt, sz))\n",
    "        \n",
    "      }//end mapPartitions"
   ]
  },
  {
   "cell_type": "code",
   "execution_count": 203,
   "metadata": {
    "collapsed": false
   },
   "outputs": [
    {
     "name": "stdout",
     "output_type": "stream",
     "text": [
      "(DenseVector(0.0  0.0  \n",
      "0.0  0.0  , 25.0  0.0  \n",
      "25.0  0.0  , 25.0  0.0  \n",
      "25.0  0.0  , 0.0  0.0  \n",
      "0.0  0.0  , 0.0  0.0  \n",
      "0.0  0.0  ),2)\n",
      "(DenseVector(0.0  0.0  \n",
      "0.0  0.0  , 25.0  0.0  \n",
      "25.0  0.0  , 25.0  0.0  \n",
      "25.0  0.0  , 0.0  0.0  \n",
      "0.0  0.0  , 0.0  0.0  \n",
      "0.0  0.0  ),2)\n",
      "(DenseVector(0.0  0.0  \n",
      "0.0  0.0  , 25.0  0.0  \n",
      "25.0  0.0  , 25.0  0.0  \n",
      "25.0  0.0  , 0.0  0.0  \n",
      "0.0  0.0  , 0.0  0.0  \n",
      "0.0  0.0  ),2)\n",
      "(DenseVector(0.0  0.0  \n",
      "0.0  0.0  , 25.0  0.0  \n",
      "25.0  0.0  , 25.0  0.0  \n",
      "25.0  0.0  , 25.0  0.0  \n",
      "25.0  0.0  , 0.0  0.0  \n",
      "0.0  0.0  ),3)\n"
     ]
    }
   ],
   "source": [
    "metrics.collect() foreach println"
   ]
  },
  {
   "cell_type": "code",
   "execution_count": 181,
   "metadata": {
    "collapsed": false
   },
   "outputs": [],
   "source": [
    "val collect_beta  : DenseVector[DenseMatrix[Double]] = metrics.map(_._1).reduce((vec1,vec2) => vec1 :+ vec2)"
   ]
  },
  {
   "cell_type": "code",
   "execution_count": 184,
   "metadata": {
    "collapsed": false
   },
   "outputs": [
    {
     "data": {
      "text/plain": [
       "DenseVector((), (), (), (), ())"
      ]
     },
     "execution_count": 184,
     "metadata": {},
     "output_type": "execute_result"
    },
    {
     "name": "stdout",
     "output_type": "stream",
     "text": [
      "0.0  0.0  \n",
      "0.0  0.0  \n",
      "\n",
      "100.0  100.0  \n",
      "100.0  100.0  \n",
      "\n",
      "100.0  100.0  \n",
      "100.0  100.0  \n",
      "\n",
      "25.0  25.0  \n",
      "25.0  25.0  \n",
      "\n",
      "0.0  0.0  \n",
      "0.0  0.0  \n",
      "\n"
     ]
    }
   ],
   "source": [
    "collect_beta.map(x => {println(x); print(\"\\n\")} )"
   ]
  },
  {
   "cell_type": "code",
   "execution_count": null,
   "metadata": {
    "collapsed": true
   },
   "outputs": [],
   "source": [
    "print(\"**************************testing bound\")"
   ]
  },
  {
   "cell_type": "code",
   "execution_count": 111,
   "metadata": {
    "collapsed": true
   },
   "outputs": [],
   "source": [
    "//creat exact same data structure\n",
    "//testing bond\n",
    "\n",
    "val metrics : RDD[( List[Double] , Double )] =   \n",
    "      documentsRDD.mapPartitions { docs => \n",
    "             val sigma_pt   =  DenseMatrix.zeros[Double](2,2) \n",
    "             val beta_pt    =  DenseVector.zeros[DenseMatrix[Double]](5)\n",
    "             for(i <- 0 until beta_pt.size) { beta_pt(i) = DenseMatrix.zeros[Double](2,3) } \n",
    "             var bound_pt   = List[Double]()                         \n",
    "             var lambda_pt  = List[DenseVector[Double]]()            \n",
    "             \n",
    "             var sz = 0.0\n",
    "             docs.foreach { case (doc: DenseVector[Double]) => \n",
    "                                //lambda\n",
    "                                sz = sz + 1.0\n",
    "                                bound_pt = sz :: bound_pt\n",
    "            }\n",
    "            \n",
    "            Iterator((bound_pt, sz))\n",
    "        \n",
    "      }//end mapPartitions"
   ]
  },
  {
   "cell_type": "code",
   "execution_count": 112,
   "metadata": {
    "collapsed": false
   },
   "outputs": [
    {
     "name": "stdout",
     "output_type": "stream",
     "text": [
      "(List(2.0, 1.0),2.0)\n",
      "(List(2.0, 1.0),2.0)\n",
      "(List(2.0, 1.0),2.0)\n",
      "(List(3.0, 2.0, 1.0),3.0)\n"
     ]
    }
   ],
   "source": [
    "metrics.collect() foreach println"
   ]
  },
  {
   "cell_type": "code",
   "execution_count": 113,
   "metadata": {
    "collapsed": true
   },
   "outputs": [],
   "source": [
    "val collect_bound : DenseVector[Double] = DenseVector(metrics.map(_._1).reduce{(prev, item) => prev ++ item}.toArray) "
   ]
  },
  {
   "cell_type": "code",
   "execution_count": 114,
   "metadata": {
    "collapsed": false
   },
   "outputs": [
    {
     "name": "stdout",
     "output_type": "stream",
     "text": [
      "DenseVector(2.0, 1.0, 2.0, 1.0, 2.0, 1.0, 3.0, 2.0, 1.0)"
     ]
    }
   ],
   "source": [
    "print(collect_bound)"
   ]
  }
 ],
 "metadata": {
  "kernelspec": {
   "display_name": "Scala 2.10.4 (Spark 1.4.1)",
   "language": "scala",
   "name": "scala"
  },
  "language_info": {
   "name": "scala"
  }
 },
 "nbformat": 4,
 "nbformat_minor": 0
}
